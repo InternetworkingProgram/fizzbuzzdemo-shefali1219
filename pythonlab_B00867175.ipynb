{
  "nbformat": 4,
  "nbformat_minor": 0,
  "metadata": {
    "colab": {
      "name": "pythonlab.ipynb",
      "provenance": [],
      "collapsed_sections": []
    },
    "kernelspec": {
      "name": "python3",
      "display_name": "Python 3"
    },
    "language_info": {
      "name": "python"
    }
  },
  "cells": [
    {
      "cell_type": "markdown",
      "source": [
        "**Python Lab**\n",
        "**Classes (Objects, Methods and Inheritance)**\n"
      ],
      "metadata": {
        "id": "Z2LA_telUIqk"
      }
    },
    {
      "cell_type": "markdown",
      "source": [
        "**Task1: Create a new class called Point. This class will have a “x” and “y” attribute.**"
      ],
      "metadata": {
        "id": "OjnpjrmsW_EP"
      }
    },
    {
      "cell_type": "code",
      "execution_count": 2,
      "metadata": {
        "colab": {
          "base_uri": "https://localhost:8080/"
        },
        "id": "rk4VddEAW947",
        "outputId": "670786dc-6290-4e23-f61a-6a80aeb044e0"
      },
      "outputs": [
        {
          "output_type": "stream",
          "name": "stdout",
          "text": [
            "Distance: 2.8284271247461903\n"
          ]
        }
      ],
      "source": [
        "import math \n",
        "class Point:\n",
        "  def __init__(self,x,y):\n",
        "    self.x = x\n",
        "    self.y = y\n",
        "def distance_between_points(p1,p2):\n",
        "  d1 = p1.x-p2.x\n",
        "  d2 = p1.y-p2.y\n",
        "  r = math.sqrt(d1**2+d2**2)\n",
        "  return r\n",
        "input1 = Point(1,2)\n",
        "input2 = Point(3,4)\n",
        "print(\"Distance:\", distance_between_points(input1,input2))"
      ]
    },
    {
      "cell_type": "markdown",
      "source": [
        "**Task2:reate a new class called Rectangle, this class will have width, height and corner attributes. The corner\n",
        "attribute is an instance of the Point class created in task1**"
      ],
      "metadata": {
        "id": "HiiQoSePYHVx"
      }
    },
    {
      "cell_type": "code",
      "source": [
        "class Point:\n",
        "    pass\n",
        "class Rectangle:\n",
        "    pass\n",
        "rec = Rectangle() \n",
        "rec.width = 500 \n",
        "rec.height = 800 \n",
        "rec.corner = Point() \n",
        "rec.corner.x = 15 \n",
        "rec.corner.y = 20\n",
        "def find_centre(rec):\n",
        "    cent = Point()\n",
        "    cent.x = rec.corner.x + rec.width/2.0\n",
        "    cent.y = rec.corner.y + rec.height/2.0 \n",
        "    return cent\n",
        "center = find_centre(rec)\n",
        "print(center.x,center.y)\n",
        "def move_rectangle(rec,dx,dy):\n",
        "    rec.corner.x += dx\n",
        "    rec.corner.y += dy\n",
        "move_rectangle(rec, 15, 20) \n",
        "print(rec.corner.x,rec.corner.y)\n"
      ],
      "metadata": {
        "colab": {
          "base_uri": "https://localhost:8080/"
        },
        "id": "i__FqzkhXSk1",
        "outputId": "e6df8cfc-b426-48a2-80d4-efd951d61be5"
      },
      "execution_count": null,
      "outputs": [
        {
          "output_type": "stream",
          "name": "stdout",
          "text": [
            "265.0 420.0\n",
            "30 40\n"
          ]
        }
      ]
    },
    {
      "cell_type": "markdown",
      "source": [
        "**Task3: Write a constructor( __init__ method) for the Point class that takes x and y as optional parameters and\n",
        "assigns them to the corresponding attributes**"
      ],
      "metadata": {
        "id": "oOi9slpGYfFw"
      }
    },
    {
      "cell_type": "code",
      "source": [
        "class Point():\n",
        "    def __init__(self,x,y):\n",
        "         self.x = x\n",
        "         self.y = y\n",
        "    def __str__(self):\n",
        "        return '(x =' + str(self.x) + ' ,y = ' + str(self.y) + ')'\n",
        "p = Point(5,6) \n",
        "print(p.__str__())\n"
      ],
      "metadata": {
        "colab": {
          "base_uri": "https://localhost:8080/"
        },
        "id": "11MB0OJGYdX0",
        "outputId": "64ed9f0a-26d1-4a21-fd49-ebaf33703792"
      },
      "execution_count": null,
      "outputs": [
        {
          "output_type": "stream",
          "name": "stdout",
          "text": [
            "(x =5 ,y = 6)\n"
          ]
        }
      ]
    },
    {
      "cell_type": "code",
      "source": [
        "class Point():\n",
        "    def __init__(self,x= 3,y=1 ):\n",
        "         self.x = x\n",
        "         self.y = y\n",
        "    def __add__(self,other):\n",
        "      return (self.x + other.x + self.y+other.y)\n",
        "p1 = Point(5,6)\n",
        "other = Point() \n",
        "print(p1.__add__(other))"
      ],
      "metadata": {
        "colab": {
          "base_uri": "https://localhost:8080/"
        },
        "id": "OAZPqBgoYtFp",
        "outputId": "2de2faa8-f677-4aab-dc1b-fa899ea2f577"
      },
      "execution_count": null,
      "outputs": [
        {
          "output_type": "stream",
          "name": "stdout",
          "text": [
            "15\n"
          ]
        }
      ]
    },
    {
      "cell_type": "markdown",
      "source": [
        "**Task4:**"
      ],
      "metadata": {
        "id": "XO58FqAvZIu1"
      }
    },
    {
      "cell_type": "code",
      "source": [
        "class Time():\n",
        "  def __init__(self, hour = '02', minutes= '34', seconds='10' ):\n",
        "    self.hour = hour\n",
        "    self.minutes = minutes\n",
        "    self.seconds = seconds\n",
        "  def __str__(self):\n",
        "    return ('Time is {}:{}:{}' .format(self.hour,self.minutes,self.seconds))\n",
        "t = Time() \n",
        "print(t.__str__())\n"
      ],
      "metadata": {
        "colab": {
          "base_uri": "https://localhost:8080/"
        },
        "id": "etMfrKrGZEKk",
        "outputId": "afe1b06d-36b1-4a9a-f68c-e29d4e35d665"
      },
      "execution_count": 3,
      "outputs": [
        {
          "output_type": "stream",
          "name": "stdout",
          "text": [
            "Time is 02:34:10\n"
          ]
        }
      ]
    },
    {
      "cell_type": "markdown",
      "source": [
        "**Task5:**"
      ],
      "metadata": {
        "id": "_v6yl1XqZmN9"
      }
    },
    {
      "cell_type": "code",
      "source": [
        "class Kangaroo():\n",
        "  def __init__(self):\n",
        "    self.pouch_content = [] \n",
        "  def put_in_pouch (self,other):\n",
        "    self.pouch_content.append(other.pouch_content) \n",
        "  def __str__(self):\n",
        "    return (print('Kangaroo has:',self.pouch_content))\n",
        "kanga = Kangaroo()\n",
        "roo = Kangaroo() \n",
        "kanga.pouch_content.append('Baby ')\n",
        "kanga.pouch_content.append('gloves') \n",
        "kanga.pouch_content.append(3) \n",
        "roo.pouch_content.append('banana') \n",
        "roo.pouch_content.append('orange') \n",
        "roo.pouch_content.append(2)\n",
        "kanga.__str__()\n",
        "roo.__str__()\n",
        "kanga. put_in_pouch (roo)\n",
        "kanga.__str__()"
      ],
      "metadata": {
        "colab": {
          "base_uri": "https://localhost:8080/"
        },
        "id": "OakOof9iZh60",
        "outputId": "71b301c4-cc1b-42fb-89ed-0add3383c20f"
      },
      "execution_count": null,
      "outputs": [
        {
          "output_type": "stream",
          "name": "stdout",
          "text": [
            "Kangaroo has: ['Baby ', 'gloves', 3]\n",
            "Kangaroo has: ['banana', 'orange', 2]\n",
            "Kangaroo has: ['Baby ', 'gloves', 3, ['banana', 'orange', 2]]\n"
          ]
        }
      ]
    },
    {
      "cell_type": "markdown",
      "source": [
        "**Task6:**"
      ],
      "metadata": {
        "id": "tC8zyh9baJan"
      }
    },
    {
      "cell_type": "code",
      "source": [
        "class Vehicle:\n",
        "  pass\n",
        "class LandVehicle(Vehicle):\n",
        "  pass\n",
        "class TrackedVehicle(LandVehicle):\n",
        "  pass\n",
        "for cl1 in [Vehicle, LandVehicle, TrackedVehicle]:\n",
        "  for cl2 in [Vehicle, LandVehicle, TrackedVehicle]:\n",
        "    print(issubclass(cl1,cl2),end='\\t')\n",
        "  print()"
      ],
      "metadata": {
        "colab": {
          "base_uri": "https://localhost:8080/"
        },
        "id": "fhF56SReaCam",
        "outputId": "2f28b066-77ff-4bfd-ee82-8f524c2ffa48"
      },
      "execution_count": null,
      "outputs": [
        {
          "output_type": "stream",
          "name": "stdout",
          "text": [
            "True\tFalse\tFalse\t\n",
            "True\tTrue\tFalse\t\n",
            "True\tTrue\tTrue\t\n"
          ]
        }
      ]
    },
    {
      "cell_type": "markdown",
      "source": [
        "**Task7:**"
      ],
      "metadata": {
        "id": "KQIQUzZsafxu"
      }
    },
    {
      "cell_type": "code",
      "source": [
        "class Vehicle:\n",
        "  pass\n",
        "class LandVehicle(Vehicle):\n",
        "  pass\n",
        "class TrackedVehicle(LandVehicle):\n",
        "  pass\n",
        "vehicle = Vehicle()\n",
        "landvehicle = LandVehicle()\n",
        "trackedvehicle = TrackedVehicle()\n",
        "for ob in [vehicle, landvehicle, trackedvehicle]:\n",
        "  for cl in [Vehicle, LandVehicle, TrackedVehicle]:\n",
        "    print(isinstance(ob,cl),end='\\t')\n",
        "  print()"
      ],
      "metadata": {
        "colab": {
          "base_uri": "https://localhost:8080/"
        },
        "id": "jsgDMAVzacHz",
        "outputId": "fa18087c-4d3f-461b-9b87-fe0c3c4c4404"
      },
      "execution_count": null,
      "outputs": [
        {
          "output_type": "stream",
          "name": "stdout",
          "text": [
            "True\tFalse\tFalse\t\n",
            "True\tTrue\tFalse\t\n",
            "True\tTrue\tTrue\t\n"
          ]
        }
      ]
    },
    {
      "cell_type": "markdown",
      "source": [
        "**Homework Q1: Write an add method for Points that works with either a Point object or a tuple:** \n",
        "• If the second operand is a Point, the method should return a new Point whose x coordinate is the\n",
        "sum of the x coordinates of the operands, and likewise for the y coordinates.\n",
        "• If the second operand is a tuple, the method should add the first element of the tuple to\n",
        "the x coordinate and the second element to the y coordinate, and return a new Point with the\n",
        "result."
      ],
      "metadata": {
        "id": "UOdcK5H3a2Xw"
      }
    },
    {
      "cell_type": "code",
      "source": [
        "class Point(object):\n",
        "    def __init__(self, x=0, y=0):\n",
        "        self.x = x\n",
        "        self.y = y\n",
        "\n",
        "    def __add__(self, other):\n",
        "        point_ = Point()\n",
        "        if isinstance(other, Point):\n",
        "            point_.x += self.x + other.x\n",
        "            point_.y += self.y + other.y\n",
        "            return point_\n",
        "        elif type(other) == tuple:\n",
        "            point_.x += self.x + other[0]\n",
        "            point_.y += self.y + other[1]\n",
        "        return point_\n",
        "\n",
        "    def __radd__(self, other):\n",
        "        return self.__add__(other)\n",
        "\n",
        "    def __str__(self):\n",
        "        return \"(%s, %s)\" % (self.x, self.y)\n",
        "\n",
        "point1 = Point(1, 6)\n",
        "point2 = (5, 2)\n",
        "point3 = point1 + point2\n",
        "point4 = point2 + point1\n",
        "print (point3, point4)"
      ],
      "metadata": {
        "colab": {
          "base_uri": "https://localhost:8080/"
        },
        "id": "yDGsVNPNasKU",
        "outputId": "9df84419-795b-4ba7-d207-8de64b7aa850"
      },
      "execution_count": null,
      "outputs": [
        {
          "output_type": "stream",
          "name": "stdout",
          "text": [
            "(6, 8) (6, 8)\n"
          ]
        }
      ]
    },
    {
      "cell_type": "code",
      "source": [
        ""
      ],
      "metadata": {
        "id": "EJtbFb3wbCuG"
      },
      "execution_count": null,
      "outputs": []
    }
  ]
}